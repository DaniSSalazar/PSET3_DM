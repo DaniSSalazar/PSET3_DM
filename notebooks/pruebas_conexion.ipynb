{
 "cells": [
  {
   "cell_type": "code",
   "execution_count": 1,
   "id": "a7b0ad97-69f5-40a1-a5b5-c9c2eb653630",
   "metadata": {},
   "outputs": [],
   "source": [
    "import pyspark"
   ]
  },
  {
   "cell_type": "code",
   "execution_count": 2,
   "id": "27b2e5a9-662a-42d9-9b04-ae0856f83f36",
   "metadata": {},
   "outputs": [
    {
     "name": "stdout",
     "output_type": "stream",
     "text": [
      "[416, 446, 567, 592, 837]\n"
     ]
    }
   ],
   "source": [
    "    sc = pyspark.SparkContext('local[*]')\n",
    "    # Example usage:\n",
    "    rdd = sc.parallelize(range(1000))\n",
    "    print(rdd.takeSample(False, 5))"
   ]
  },
  {
   "cell_type": "code",
   "execution_count": 3,
   "id": "886a0605-274b-4193-aa6c-9de2014e2e35",
   "metadata": {},
   "outputs": [
    {
     "data": {
      "text/html": [
       "\n",
       "            <div>\n",
       "                <p><b>SparkSession - in-memory</b></p>\n",
       "                \n",
       "        <div>\n",
       "            <p><b>SparkContext</b></p>\n",
       "\n",
       "            <p><a href=\"http://5f892c4bd431:4041\">Spark UI</a></p>\n",
       "\n",
       "            <dl>\n",
       "              <dt>Version</dt>\n",
       "                <dd><code>v3.5.0</code></dd>\n",
       "              <dt>Master</dt>\n",
       "                <dd><code>local[*]</code></dd>\n",
       "              <dt>AppName</dt>\n",
       "                <dd><code>pyspark-shell</code></dd>\n",
       "            </dl>\n",
       "        </div>\n",
       "        \n",
       "            </div>\n",
       "        "
      ],
      "text/plain": [
       "<pyspark.sql.session.SparkSession at 0x7efee23ed210>"
      ]
     },
     "execution_count": 3,
     "metadata": {},
     "output_type": "execute_result"
    }
   ],
   "source": [
    "from pyspark.sql import SparkSession\n",
    "\n",
    "spark = SparkSession.builder \\\n",
    "    .appName(\"TestSpark\") \\\n",
    "    .getOrCreate()\n",
    "\n",
    "spark\n"
   ]
  },
  {
   "cell_type": "code",
   "execution_count": 4,
   "id": "b866cb8c-1a05-4300-8403-8f00a6ea58ff",
   "metadata": {},
   "outputs": [
    {
     "name": "stdout",
     "output_type": "stream",
     "text": [
      "+---+-------+\n",
      "| id|mensaje|\n",
      "+---+-------+\n",
      "|  1|   Hola|\n",
      "|  2|  Spark|\n",
      "|  3| Docker|\n",
      "+---+-------+\n",
      "\n",
      "Total filas: 3\n"
     ]
    }
   ],
   "source": [
    "df = spark.createDataFrame([(1, \"Hola\"), (2, \"Spark\"), (3, \"Docker\")], [\"id\", \"mensaje\"])\n",
    "df.show()\n",
    "\n",
    "print(\"Total filas:\", df.count())\n"
   ]
  },
  {
   "cell_type": "code",
   "execution_count": 5,
   "id": "4e453d3f-f7d7-4b4c-acfe-8f2fe58a17eb",
   "metadata": {},
   "outputs": [],
   "source": [
    "!mkdir -p /home/jovyan/jars"
   ]
  },
  {
   "cell_type": "code",
   "execution_count": 6,
   "id": "6120ff74-ef2a-4ff4-a200-84adce3c4b2b",
   "metadata": {},
   "outputs": [
    {
     "name": "stdout",
     "output_type": "stream",
     "text": [
      "--2025-10-20 00:56:57--  https://repo1.maven.org/maven2/net/snowflake/snowflake-jdbc/3.13.30/snowflake-jdbc-3.13.30.jar\n",
      "Resolving repo1.maven.org (repo1.maven.org)... 104.18.19.12, 104.18.18.12, 2606:4700::6812:120c, ...\n",
      "Connecting to repo1.maven.org (repo1.maven.org)|104.18.19.12|:443... connected.\n",
      "HTTP request sent, awaiting response... 200 OK\n",
      "Length: 33419306 (32M) [application/java-archive]\n",
      "Saving to: ‘/home/jovyan/jars/snowflake-jdbc-3.13.30.jar.1’\n",
      "\n",
      "snowflake-jdbc-3.13 100%[===================>]  31.87M   431KB/s    in 56s     \n",
      "\n",
      "2025-10-20 00:57:54 (583 KB/s) - ‘/home/jovyan/jars/snowflake-jdbc-3.13.30.jar.1’ saved [33419306/33419306]\n",
      "\n",
      "--2025-10-20 00:57:54--  https://repo1.maven.org/maven2/net/snowflake/spark-snowflake_2.12/2.12.0-spark_3.4/spark-snowflake_2.12-2.12.0-spark_3.4.jar\n",
      "Resolving repo1.maven.org (repo1.maven.org)... 104.18.19.12, 104.18.18.12, 2606:4700::6812:120c, ...\n",
      "Connecting to repo1.maven.org (repo1.maven.org)|104.18.19.12|:443... connected.\n",
      "HTTP request sent, awaiting response... 200 OK\n",
      "Length: 772490 (754K) [application/java-archive]\n",
      "Saving to: ‘/home/jovyan/jars/spark-snowflake_2.12-2.12.0-spark_3.4.jar.1’\n",
      "\n",
      "spark-snowflake_2.1 100%[===================>] 754.38K   466KB/s    in 1.6s    \n",
      "\n",
      "2025-10-20 00:57:56 (466 KB/s) - ‘/home/jovyan/jars/spark-snowflake_2.12-2.12.0-spark_3.4.jar.1’ saved [772490/772490]\n",
      "\n"
     ]
    }
   ],
   "source": [
    "!wget -P /home/jovyan/jars https://repo1.maven.org/maven2/net/snowflake/snowflake-jdbc/3.13.30/snowflake-jdbc-3.13.30.jar\n",
    "\n",
    "!wget -P /home/jovyan/jars https://repo1.maven.org/maven2/net/snowflake/spark-snowflake_2.12/2.12.0-spark_3.4/spark-snowflake_2.12-2.12.0-spark_3.4.jar"
   ]
  },
  {
   "cell_type": "code",
   "execution_count": 7,
   "id": "2f72bd36-60a3-44bb-ae7c-b0116c14ed3c",
   "metadata": {},
   "outputs": [
    {
     "name": "stdout",
     "output_type": "stream",
     "text": [
      "snowflake-jdbc-3.13.30.jar    spark-snowflake_2.12-2.12.0-spark_3.4.jar\n",
      "snowflake-jdbc-3.13.30.jar.1  spark-snowflake_2.12-2.12.0-spark_3.4.jar.1\n"
     ]
    }
   ],
   "source": [
    "!ls /home/jovyan/jars"
   ]
  },
  {
   "cell_type": "code",
   "execution_count": 8,
   "id": "fedeca39-281b-4bdd-b4b8-d17725a3e3c2",
   "metadata": {},
   "outputs": [],
   "source": [
    "spark.stop()"
   ]
  },
  {
   "cell_type": "code",
   "execution_count": 11,
   "id": "b56722aa-d00b-49ba-ab9d-a65220a2bb41",
   "metadata": {},
   "outputs": [],
   "source": [
    "\n",
    "from pyspark.sql import SparkSession\n",
    "\n",
    "spark = SparkSession.builder \\\n",
    "    .appName(\"SnowflakeTest\") \\\n",
    "    .config(\"spark.jars\", \"/home/jovyan/jars/snowflake-jdbc-3.13.30.jar,/home/jovyan/jars/spark-snowflake_2.12-2.12.0-spark_3.4.jar\") \\\n",
    "    .getOrCreate()"
   ]
  },
  {
   "cell_type": "code",
   "execution_count": null,
   "id": "4b3217d7-1f1b-4fa1-92e9-526653057c56",
   "metadata": {},
   "outputs": [],
   "source": []
  }
 ],
 "metadata": {
  "kernelspec": {
   "display_name": "Python 3 (ipykernel)",
   "language": "python",
   "name": "python3"
  },
  "language_info": {
   "codemirror_mode": {
    "name": "ipython",
    "version": 3
   },
   "file_extension": ".py",
   "mimetype": "text/x-python",
   "name": "python",
   "nbconvert_exporter": "python",
   "pygments_lexer": "ipython3",
   "version": "3.11.6"
  }
 },
 "nbformat": 4,
 "nbformat_minor": 5
}
